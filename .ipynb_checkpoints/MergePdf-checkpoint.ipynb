{
 "cells": [
  {
   "cell_type": "markdown",
   "id": "56bdedaf",
   "metadata": {},
   "source": [
    "# Merge simples de arquivos pdf\n",
    "\n",
    " - Agrupar arquivos pdf na mesma base do arquivo python\n",
    " - Instalar a biblioteca PyPDF2\n",
    " - Criar uma pasta Output\n"
   ]
  },
  {
   "cell_type": "code",
   "execution_count": 16,
   "id": "afc3c172",
   "metadata": {},
   "outputs": [],
   "source": [
    "# pip install PyPDF2"
   ]
  },
  {
   "cell_type": "code",
   "execution_count": 17,
   "id": "8e5b4672",
   "metadata": {},
   "outputs": [],
   "source": [
    "import os\n",
    "from PyPDF2 import PdfFileMerger"
   ]
  },
  {
   "cell_type": "code",
   "execution_count": 18,
   "id": "c0d83890",
   "metadata": {},
   "outputs": [],
   "source": [
    "source_dir = os.getcwd()\n",
    "merger = PdfFileMerger()"
   ]
  },
  {
   "cell_type": "code",
   "execution_count": 19,
   "id": "fd005d24",
   "metadata": {},
   "outputs": [],
   "source": [
    "for item in os.listdir(source_dir):\n",
    "    if item.endswith('pdf'):\n",
    "        merger.append(item)\n",
    "        \n",
    "merger.write('./Output/Acao_Concluida.pdf')\n",
    "merger.close()\n"
   ]
  }
 ],
 "metadata": {
  "kernelspec": {
   "display_name": "Python 3 (ipykernel)",
   "language": "python",
   "name": "python3"
  },
  "language_info": {
   "codemirror_mode": {
    "name": "ipython",
    "version": 3
   },
   "file_extension": ".py",
   "mimetype": "text/x-python",
   "name": "python",
   "nbconvert_exporter": "python",
   "pygments_lexer": "ipython3",
   "version": "3.9.12"
  }
 },
 "nbformat": 4,
 "nbformat_minor": 5
}
