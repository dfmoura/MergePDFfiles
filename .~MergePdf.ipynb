{
 "cells": [
  {
   "cell_type": "code",
   "execution_count": null,
   "id": "35c7d44b",
   "metadata": {},
   "outputs": [],
   "source": [
    "# Agrupar arquivos pdf na mesma base\n"
   ]
  },
  {
   "cell_type": "code",
   "execution_count": 13,
   "id": "ef62c5a2",
   "metadata": {},
   "outputs": [],
   "source": [
    "# pip install PyPDF2"
   ]
  },
  {
   "cell_type": "code",
   "execution_count": 10,
   "id": "ad42a1de",
   "metadata": {},
   "outputs": [],
   "source": [
    "import os\n",
    "from PyPDF2 import PdfFileMerger"
   ]
  },
  {
   "cell_type": "code",
   "execution_count": 11,
   "id": "fcbf9cfc",
   "metadata": {},
   "outputs": [],
   "source": [
    "source_dir = os.getcwd()\n",
    "merger = PdfFileMerger()"
   ]
  },
  {
   "cell_type": "code",
   "execution_count": 12,
   "id": "884d8233",
   "metadata": {},
   "outputs": [],
   "source": [
    "for item in os.listdir(source_dir):\n",
    "    if item.endswith('pdf'):\n",
    "        merger.append(item)\n",
    "        \n",
    "merger.write('./Output/Acao_Concluida.pdf')\n",
    "merger.close()\n"
   ]
  }
 ],
 "metadata": {
  "kernelspec": {
   "display_name": "Python 3 (ipykernel)",
   "language": "python",
   "name": "python3"
  },
  "language_info": {
   "codemirror_mode": {
    "name": "ipython",
    "version": 3
   },
   "file_extension": ".py",
   "mimetype": "text/x-python",
   "name": "python",
   "nbconvert_exporter": "python",
   "pygments_lexer": "ipython3",
   "version": "3.9.12"
  }
 },
 "nbformat": 4,
 "nbformat_minor": 5
}
