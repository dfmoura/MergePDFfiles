{
 "cells": [
  {
   "cell_type": "code",
   "execution_count": 15,
   "id": "5ca2e176",
   "metadata": {},
   "outputs": [],
   "source": [
    "# Agrupar arquivos pdf na mesma base\n"
   ]
  },
  {
   "cell_type": "code",
   "execution_count": 16,
   "id": "d2de6a75",
   "metadata": {},
   "outputs": [],
   "source": [
    "# pip install PyPDF2"
   ]
  },
  {
   "cell_type": "code",
   "execution_count": 17,
   "id": "d364289b",
   "metadata": {},
   "outputs": [],
   "source": [
    "import os\n",
    "from PyPDF2 import PdfFileMerger"
   ]
  },
  {
   "cell_type": "code",
   "execution_count": 18,
   "id": "1eddf3c0",
   "metadata": {},
   "outputs": [],
   "source": [
    "source_dir = os.getcwd()\n",
    "merger = PdfFileMerger()"
   ]
  },
  {
   "cell_type": "code",
   "execution_count": 19,
   "id": "e2d41e3b",
   "metadata": {},
   "outputs": [],
   "source": [
    "for item in os.listdir(source_dir):\n",
    "    if item.endswith('pdf'):\n",
    "        merger.append(item)\n",
    "        \n",
    "merger.write('./Output/Acao_Concluida.pdf')\n",
    "merger.close()\n"
   ]
  }
 ],
 "metadata": {
  "kernelspec": {
   "display_name": "Python 3 (ipykernel)",
   "language": "python",
   "name": "python3"
  },
  "language_info": {
   "codemirror_mode": {
    "name": "ipython",
    "version": 3
   },
   "file_extension": ".py",
   "mimetype": "text/x-python",
   "name": "python",
   "nbconvert_exporter": "python",
   "pygments_lexer": "ipython3",
   "version": "3.9.12"
  }
 },
 "nbformat": 4,
 "nbformat_minor": 5
}
